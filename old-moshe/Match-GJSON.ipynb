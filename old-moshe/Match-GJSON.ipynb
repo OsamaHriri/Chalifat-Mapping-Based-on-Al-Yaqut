{
 "cells": [
  {
   "cell_type": "code",
   "execution_count": 1,
   "metadata": {},
   "outputs": [],
   "source": [
    "import pandas as pd\n",
    "import json\n",
    "from tqdm import tqdm\n",
    "import os\n",
    "from collections import Counter"
   ]
  },
  {
   "cell_type": "code",
   "execution_count": 2,
   "metadata": {},
   "outputs": [],
   "source": [
    "import geopandas as gpd"
   ]
  },
  {
   "cell_type": "code",
   "execution_count": 3,
   "metadata": {},
   "outputs": [],
   "source": [
    "import matplotlib.pyplot as plt"
   ]
  },
  {
   "cell_type": "code",
   "execution_count": 4,
   "metadata": {},
   "outputs": [],
   "source": [
    "flatten = lambda l: [item for sublist in l for item in sublist]"
   ]
  },
  {
   "cell_type": "code",
   "execution_count": 6,
   "metadata": {},
   "outputs": [],
   "source": [
    "# x = pd.read_json('alth_places/places/JAWLAN_357E330N_S.geojson')"
   ]
  },
  {
   "cell_type": "code",
   "execution_count": 7,
   "metadata": {},
   "outputs": [],
   "source": [
    "# with open('alth_places/places/JAWLAN_357E330N_S.geojson') as f:\n",
    "#     y = json.load(f)"
   ]
  },
  {
   "cell_type": "code",
   "execution_count": 8,
   "metadata": {},
   "outputs": [],
   "source": [
    "# pd.read_json(json.dumps({0: y['properties']['cornuData']}), orient='index')"
   ]
  },
  {
   "cell_type": "code",
   "execution_count": 9,
   "metadata": {},
   "outputs": [],
   "source": [
    "DIR = 'alth_places/places/'"
   ]
  },
  {
   "cell_type": "code",
   "execution_count": 10,
   "metadata": {},
   "outputs": [],
   "source": [
    "ilist = []"
   ]
  },
  {
   "cell_type": "code",
   "execution_count": 11,
   "metadata": {},
   "outputs": [
    {
     "name": "stderr",
     "output_type": "stream",
     "text": [
      "100%|██████████| 2519/2519 [00:12<00:00, 194.15it/s]\n"
     ]
    }
   ],
   "source": [
    "for fn in tqdm(os.listdir(DIR)[1:]):\n",
    "    fp = f'{DIR}{fn}'\n",
    "    with open(fp) as f:\n",
    "        j = json.load(f)\n",
    "    ilist.append(j['properties']['cornuData'])"
   ]
  },
  {
   "cell_type": "code",
   "execution_count": 12,
   "metadata": {},
   "outputs": [],
   "source": [
    "df = pd.DataFrame(ilist)"
   ]
  },
  {
   "cell_type": "code",
   "execution_count": 13,
   "metadata": {},
   "outputs": [
    {
     "data": {
      "text/plain": [
       "191"
      ]
     },
     "execution_count": 13,
     "metadata": {},
     "output_type": "execute_result"
    }
   ],
   "source": [
    "len(df) - len(set(df.toponym_arabic))"
   ]
  },
  {
   "cell_type": "code",
   "execution_count": 34,
   "metadata": {},
   "outputs": [
    {
     "data": {
      "text/html": [
       "<div>\n",
       "<style scoped>\n",
       "    .dataframe tbody tr th:only-of-type {\n",
       "        vertical-align: middle;\n",
       "    }\n",
       "\n",
       "    .dataframe tbody tr th {\n",
       "        vertical-align: top;\n",
       "    }\n",
       "\n",
       "    .dataframe thead th {\n",
       "        text-align: right;\n",
       "    }\n",
       "</style>\n",
       "<table border=\"1\" class=\"dataframe\">\n",
       "  <thead>\n",
       "    <tr style=\"text-align: right;\">\n",
       "      <th></th>\n",
       "      <th>coord_certainty</th>\n",
       "      <th>toponym_translit_other</th>\n",
       "      <th>cornu_URI</th>\n",
       "      <th>toponym_arabic</th>\n",
       "      <th>top_type_orig</th>\n",
       "      <th>toponym_buckwalter</th>\n",
       "      <th>toponym_arabic_other</th>\n",
       "      <th>toponym_translit</th>\n",
       "      <th>coord_lat</th>\n",
       "      <th>toponym_search</th>\n",
       "      <th>region_code</th>\n",
       "      <th>coord_lon</th>\n",
       "      <th>region_spelled</th>\n",
       "      <th>top_type_hom</th>\n",
       "    </tr>\n",
       "  </thead>\n",
       "  <tbody>\n",
       "    <tr>\n",
       "      <th>0</th>\n",
       "      <td>certain</td>\n",
       "      <td>Ābāḏaŧ, Arǧumān</td>\n",
       "      <td>ABADHA_526E311N_S</td>\n",
       "      <td>آباذة</td>\n",
       "      <td>cite</td>\n",
       "      <td>Abadha, Arjuman</td>\n",
       "      <td>آباذة، أرجمان</td>\n",
       "      <td>Ābāḏaŧ</td>\n",
       "      <td>31.16430</td>\n",
       "      <td>Abadha, Arjuman</td>\n",
       "      <td>Faris</td>\n",
       "      <td>52.66127</td>\n",
       "      <td>Fārs(or Fāris)</td>\n",
       "      <td>towns</td>\n",
       "    </tr>\n",
       "    <tr>\n",
       "      <th>1</th>\n",
       "      <td>certain</td>\n",
       "      <td>Ābāḏaŧ</td>\n",
       "      <td>ABADHA_537E297N_S</td>\n",
       "      <td>آباذة</td>\n",
       "      <td>cite</td>\n",
       "      <td>Abadha</td>\n",
       "      <td>آباذة</td>\n",
       "      <td>Ābāḏaŧ</td>\n",
       "      <td>29.78210</td>\n",
       "      <td>Abadha</td>\n",
       "      <td>Faris</td>\n",
       "      <td>53.73617</td>\n",
       "      <td>Fārs(or Fāris)</td>\n",
       "      <td>towns</td>\n",
       "    </tr>\n",
       "    <tr>\n",
       "      <th>2</th>\n",
       "      <td>certain</td>\n",
       "      <td>Abān</td>\n",
       "      <td>ABAN_552E308N_S</td>\n",
       "      <td>أبان</td>\n",
       "      <td>cite</td>\n",
       "      <td>Aban</td>\n",
       "      <td>أبان</td>\n",
       "      <td>Abān</td>\n",
       "      <td>30.88547</td>\n",
       "      <td>Aban</td>\n",
       "      <td>Faris</td>\n",
       "      <td>55.25395</td>\n",
       "      <td>Fārs(or Fāris)</td>\n",
       "      <td>towns</td>\n",
       "    </tr>\n",
       "    <tr>\n",
       "      <th>3</th>\n",
       "      <td>certain</td>\n",
       "      <td>Abārkaṯ, Barkāṯ</td>\n",
       "      <td>ABARKATH_673E397N_S</td>\n",
       "      <td>أباركث</td>\n",
       "      <td>cheflieu</td>\n",
       "      <td>Abarkath, Barkath</td>\n",
       "      <td>أباركث، بركاث</td>\n",
       "      <td>Abārkaṯ</td>\n",
       "      <td>39.79611</td>\n",
       "      <td>Abarkath, Barkath</td>\n",
       "      <td>Transoxiana</td>\n",
       "      <td>67.38308</td>\n",
       "      <td>Mā-warāʾ-l-nahr (Transoxiana)</td>\n",
       "      <td>capitals</td>\n",
       "    </tr>\n",
       "    <tr>\n",
       "      <th>4</th>\n",
       "      <td>certain</td>\n",
       "      <td>Abarqūh</td>\n",
       "      <td>ABARQUH_532E311N_S</td>\n",
       "      <td>أبرقوه</td>\n",
       "      <td>cite</td>\n",
       "      <td>Abarquh</td>\n",
       "      <td>أبرقوه</td>\n",
       "      <td>Abarqūh</td>\n",
       "      <td>31.15094</td>\n",
       "      <td>Abarquh</td>\n",
       "      <td>Faris</td>\n",
       "      <td>53.25737</td>\n",
       "      <td>Fārs(or Fāris)</td>\n",
       "      <td>towns</td>\n",
       "    </tr>\n",
       "    <tr>\n",
       "      <th>...</th>\n",
       "      <td>...</td>\n",
       "      <td>...</td>\n",
       "      <td>...</td>\n",
       "      <td>...</td>\n",
       "      <td>...</td>\n",
       "      <td>...</td>\n",
       "      <td>...</td>\n",
       "      <td>...</td>\n",
       "      <td>...</td>\n",
       "      <td>...</td>\n",
       "      <td>...</td>\n",
       "      <td>...</td>\n",
       "      <td>...</td>\n",
       "      <td>...</td>\n",
       "    </tr>\n",
       "    <tr>\n",
       "      <th>2514</th>\n",
       "      <td>certain</td>\n",
       "      <td>ZiyādābāḏZiyādāwāḏ</td>\n",
       "      <td>ZIYADABADHZIYADAWADH_532E298N_S</td>\n",
       "      <td>زياداباذزياداواذ</td>\n",
       "      <td>etape</td>\n",
       "      <td>ZiyadabadhZiyadawadh</td>\n",
       "      <td>زياداباذزياداواذ</td>\n",
       "      <td>ZiyādābāḏZiyādāwāḏ</td>\n",
       "      <td>29.83708</td>\n",
       "      <td>ZiyadabadhZiyadawadh</td>\n",
       "      <td>Faris</td>\n",
       "      <td>53.22441</td>\n",
       "      <td>Fārs(or Fāris)</td>\n",
       "      <td>waystations</td>\n",
       "    </tr>\n",
       "    <tr>\n",
       "      <th>2515</th>\n",
       "      <td>certain</td>\n",
       "      <td>Zubālaŧ</td>\n",
       "      <td>ZUBALA_435E294N_S</td>\n",
       "      <td>زبالة</td>\n",
       "      <td>forteresse</td>\n",
       "      <td>Zubala</td>\n",
       "      <td>زبالة</td>\n",
       "      <td>Zubālaŧ</td>\n",
       "      <td>29.40521</td>\n",
       "      <td>Zubala</td>\n",
       "      <td>Badiyat al-Arab</td>\n",
       "      <td>43.56390</td>\n",
       "      <td>Badiyyaŧ al-ʿarab</td>\n",
       "      <td>waystations</td>\n",
       "    </tr>\n",
       "    <tr>\n",
       "      <th>2516</th>\n",
       "      <td>certain</td>\n",
       "      <td>al-Zubaydiyyaŧ</td>\n",
       "      <td>ZUBAYDIYYA_468E342N_S</td>\n",
       "      <td>الزبيدية</td>\n",
       "      <td>etape?</td>\n",
       "      <td>al-Zubaydiyya</td>\n",
       "      <td>الزبيدية</td>\n",
       "      <td>al-Zubaydiyyaŧ</td>\n",
       "      <td>34.23099</td>\n",
       "      <td>al-Zubaydiyya</td>\n",
       "      <td>Jibal</td>\n",
       "      <td>46.85168</td>\n",
       "      <td>al-Jibāl</td>\n",
       "      <td>waystations</td>\n",
       "    </tr>\n",
       "    <tr>\n",
       "      <th>2517</th>\n",
       "      <td>certain</td>\n",
       "      <td>al-Zubaydiyyaŧ</td>\n",
       "      <td>ZUBAYDIYYA_469E344N_S</td>\n",
       "      <td>الزبيدية</td>\n",
       "      <td>etape?</td>\n",
       "      <td>al-Zubaydiyya</td>\n",
       "      <td>الزبيدية</td>\n",
       "      <td>al-Zubaydiyyaŧ</td>\n",
       "      <td>34.43457</td>\n",
       "      <td>al-Zubaydiyya</td>\n",
       "      <td>Jibal</td>\n",
       "      <td>46.93427</td>\n",
       "      <td>al-Jibāl</td>\n",
       "      <td>waystations</td>\n",
       "    </tr>\n",
       "    <tr>\n",
       "      <th>2518</th>\n",
       "      <td>certain</td>\n",
       "      <td>Zūzan</td>\n",
       "      <td>ZUZAN_598E343N_S</td>\n",
       "      <td>زوزن</td>\n",
       "      <td>canton</td>\n",
       "      <td>Zuzan</td>\n",
       "      <td>زوزن</td>\n",
       "      <td>Zūzan</td>\n",
       "      <td>34.31050</td>\n",
       "      <td>Zuzan</td>\n",
       "      <td>Khurasan</td>\n",
       "      <td>59.86207</td>\n",
       "      <td>Ḫurāsān</td>\n",
       "      <td>towns</td>\n",
       "    </tr>\n",
       "  </tbody>\n",
       "</table>\n",
       "<p>2519 rows × 14 columns</p>\n",
       "</div>"
      ],
      "text/plain": [
       "     coord_certainty toponym_translit_other                        cornu_URI  \\\n",
       "0            certain        Ābāḏaŧ, Arǧumān                ABADHA_526E311N_S   \n",
       "1            certain                 Ābāḏaŧ                ABADHA_537E297N_S   \n",
       "2            certain                   Abān                  ABAN_552E308N_S   \n",
       "3            certain        Abārkaṯ, Barkāṯ              ABARKATH_673E397N_S   \n",
       "4            certain                Abarqūh               ABARQUH_532E311N_S   \n",
       "...              ...                    ...                              ...   \n",
       "2514         certain     ZiyādābāḏZiyādāwāḏ  ZIYADABADHZIYADAWADH_532E298N_S   \n",
       "2515         certain                Zubālaŧ                ZUBALA_435E294N_S   \n",
       "2516         certain         al-Zubaydiyyaŧ            ZUBAYDIYYA_468E342N_S   \n",
       "2517         certain         al-Zubaydiyyaŧ            ZUBAYDIYYA_469E344N_S   \n",
       "2518         certain                  Zūzan                 ZUZAN_598E343N_S   \n",
       "\n",
       "        toponym_arabic top_type_orig    toponym_buckwalter  \\\n",
       "0                آباذة          cite       Abadha, Arjuman   \n",
       "1                آباذة          cite                Abadha   \n",
       "2                 أبان          cite                  Aban   \n",
       "3               أباركث      cheflieu     Abarkath, Barkath   \n",
       "4               أبرقوه          cite               Abarquh   \n",
       "...                ...           ...                   ...   \n",
       "2514  زياداباذزياداواذ         etape  ZiyadabadhZiyadawadh   \n",
       "2515             زبالة    forteresse                Zubala   \n",
       "2516          الزبيدية        etape?         al-Zubaydiyya   \n",
       "2517          الزبيدية        etape?         al-Zubaydiyya   \n",
       "2518              زوزن        canton                 Zuzan   \n",
       "\n",
       "     toponym_arabic_other    toponym_translit coord_lat        toponym_search  \\\n",
       "0           آباذة، أرجمان              Ābāḏaŧ  31.16430       Abadha, Arjuman   \n",
       "1                   آباذة              Ābāḏaŧ  29.78210                Abadha   \n",
       "2                    أبان                Abān  30.88547                  Aban   \n",
       "3           أباركث، بركاث             Abārkaṯ  39.79611     Abarkath, Barkath   \n",
       "4                  أبرقوه             Abarqūh  31.15094               Abarquh   \n",
       "...                   ...                 ...       ...                   ...   \n",
       "2514     زياداباذزياداواذ  ZiyādābāḏZiyādāwāḏ  29.83708  ZiyadabadhZiyadawadh   \n",
       "2515                زبالة             Zubālaŧ  29.40521                Zubala   \n",
       "2516             الزبيدية      al-Zubaydiyyaŧ  34.23099         al-Zubaydiyya   \n",
       "2517             الزبيدية      al-Zubaydiyyaŧ  34.43457         al-Zubaydiyya   \n",
       "2518                 زوزن               Zūzan  34.31050                 Zuzan   \n",
       "\n",
       "          region_code coord_lon                 region_spelled top_type_hom  \n",
       "0               Faris  52.66127                 Fārs(or Fāris)        towns  \n",
       "1               Faris  53.73617                 Fārs(or Fāris)        towns  \n",
       "2               Faris  55.25395                 Fārs(or Fāris)        towns  \n",
       "3         Transoxiana  67.38308  Mā-warāʾ-l-nahr (Transoxiana)     capitals  \n",
       "4               Faris  53.25737                 Fārs(or Fāris)        towns  \n",
       "...               ...       ...                            ...          ...  \n",
       "2514            Faris  53.22441                 Fārs(or Fāris)  waystations  \n",
       "2515  Badiyat al-Arab  43.56390              Badiyyaŧ al-ʿarab  waystations  \n",
       "2516            Jibal  46.85168                       al-Jibāl  waystations  \n",
       "2517            Jibal  46.93427                       al-Jibāl  waystations  \n",
       "2518         Khurasan  59.86207                        Ḫurāsān        towns  \n",
       "\n",
       "[2519 rows x 14 columns]"
      ]
     },
     "execution_count": 34,
     "metadata": {},
     "output_type": "execute_result"
    }
   ],
   "source": [
    "df"
   ]
  },
  {
   "cell_type": "code",
   "execution_count": 23,
   "metadata": {},
   "outputs": [],
   "source": [
    "xf = pd.read_excel('yaqcsv.xlsx', header=None, names=['name', 'desc'])"
   ]
  },
  {
   "cell_type": "code",
   "execution_count": 24,
   "metadata": {},
   "outputs": [],
   "source": [
    "# xf = xf.drop(['Unnamed: 0'], axis=1)"
   ]
  },
  {
   "cell_type": "code",
   "execution_count": 25,
   "metadata": {},
   "outputs": [
    {
     "data": {
      "text/html": [
       "<div>\n",
       "<style scoped>\n",
       "    .dataframe tbody tr th:only-of-type {\n",
       "        vertical-align: middle;\n",
       "    }\n",
       "\n",
       "    .dataframe tbody tr th {\n",
       "        vertical-align: top;\n",
       "    }\n",
       "\n",
       "    .dataframe thead th {\n",
       "        text-align: right;\n",
       "    }\n",
       "</style>\n",
       "<table border=\"1\" class=\"dataframe\">\n",
       "  <thead>\n",
       "    <tr style=\"text-align: right;\">\n",
       "      <th></th>\n",
       "      <th>name</th>\n",
       "      <th>desc</th>\n",
       "    </tr>\n",
       "  </thead>\n",
       "  <tbody>\n",
       "    <tr>\n",
       "      <th>0</th>\n",
       "      <td>آبار الأعراب</td>\n",
       "      <td># جمع بئر. يقال في جمعها آبار وبئار وأبار: موض...</td>\n",
       "    </tr>\n",
       "    <tr>\n",
       "      <th>1</th>\n",
       "      <td>آبج</td>\n",
       "      <td># بفتح الهمزة وبعد الألف باء موحدة مفتوحة وجيم...</td>\n",
       "    </tr>\n",
       "    <tr>\n",
       "      <th>2</th>\n",
       "      <td>آبر</td>\n",
       "      <td># بفتح الهمزة وسكون الألف وضم الباء الموحدة ور...</td>\n",
       "    </tr>\n",
       "    <tr>\n",
       "      <th>3</th>\n",
       "      <td>آبسكون</td>\n",
       "      <td># بفتح الهمزة وسكون الألف وفتح الباء الموحدة و...</td>\n",
       "    </tr>\n",
       "    <tr>\n",
       "      <th>4</th>\n",
       "      <td>آبل</td>\n",
       "      <td># بفتح الهمزة وبعد الألف باء مكسورة ولام:\\n&lt;br...</td>\n",
       "    </tr>\n",
       "    <tr>\n",
       "      <th>...</th>\n",
       "      <td>...</td>\n",
       "      <td>...</td>\n",
       "    </tr>\n",
       "    <tr>\n",
       "      <th>12449</th>\n",
       "      <td>يونان</td>\n",
       "      <td># بالضم ثم السكون، ونونين بينهما ألف:\\n&lt;br /&gt;#...</td>\n",
       "    </tr>\n",
       "    <tr>\n",
       "      <th>12450</th>\n",
       "      <td>يؤيؤ</td>\n",
       "      <td># بالضم ثم السكون ثم مثله، يوم يؤيؤ: وهو يوم ا...</td>\n",
       "    </tr>\n",
       "    <tr>\n",
       "      <th>12451</th>\n",
       "      <td>يهرع</td>\n",
       "      <td># بالفتح، قوله تعالى: وجاءه قومه يهرعون إليه، ...</td>\n",
       "    </tr>\n",
       "    <tr>\n",
       "      <th>12452</th>\n",
       "      <td>اليهودية</td>\n",
       "      <td># نسبة إلى اليهود في موضعين: أحدهما محلة بجرجا...</td>\n",
       "    </tr>\n",
       "    <tr>\n",
       "      <th>12453</th>\n",
       "      <td>ييعث</td>\n",
       "      <td># بفتح أوله، وسكون ثانيه، وضم العين المهملة، و...</td>\n",
       "    </tr>\n",
       "  </tbody>\n",
       "</table>\n",
       "<p>12454 rows × 2 columns</p>\n",
       "</div>"
      ],
      "text/plain": [
       "               name                                               desc\n",
       "0      آبار الأعراب  # جمع بئر. يقال في جمعها آبار وبئار وأبار: موض...\n",
       "1               آبج  # بفتح الهمزة وبعد الألف باء موحدة مفتوحة وجيم...\n",
       "2               آبر  # بفتح الهمزة وسكون الألف وضم الباء الموحدة ور...\n",
       "3            آبسكون  # بفتح الهمزة وسكون الألف وفتح الباء الموحدة و...\n",
       "4               آبل  # بفتح الهمزة وبعد الألف باء مكسورة ولام:\\n<br...\n",
       "...             ...                                                ...\n",
       "12449         يونان  # بالضم ثم السكون، ونونين بينهما ألف:\\n<br />#...\n",
       "12450          يؤيؤ  # بالضم ثم السكون ثم مثله، يوم يؤيؤ: وهو يوم ا...\n",
       "12451          يهرع  # بالفتح، قوله تعالى: وجاءه قومه يهرعون إليه، ...\n",
       "12452      اليهودية  # نسبة إلى اليهود في موضعين: أحدهما محلة بجرجا...\n",
       "12453          ييعث  # بفتح أوله، وسكون ثانيه، وضم العين المهملة، و...\n",
       "\n",
       "[12454 rows x 2 columns]"
      ]
     },
     "execution_count": 25,
     "metadata": {},
     "output_type": "execute_result"
    }
   ],
   "source": [
    "xf"
   ]
  },
  {
   "cell_type": "code",
   "execution_count": 27,
   "metadata": {},
   "outputs": [],
   "source": [
    "# ftoponyms = flatten(toponyms)"
   ]
  },
  {
   "cell_type": "code",
   "execution_count": 28,
   "metadata": {},
   "outputs": [],
   "source": [
    "mappl = {}\n",
    "for i, t in enumerate(df.itertuples()):\n",
    "    for k in t.toponym_arabic_other.split('، '):\n",
    "        mappl[k] = i"
   ]
  },
  {
   "cell_type": "code",
   "execution_count": 29,
   "metadata": {},
   "outputs": [],
   "source": [
    "xf['althix'] = xf.name.map(mappl)"
   ]
  },
  {
   "cell_type": "code",
   "execution_count": 30,
   "metadata": {},
   "outputs": [],
   "source": [
    "xf.althix = xf.althix.astype(int, errors='ignore')"
   ]
  },
  {
   "cell_type": "code",
   "execution_count": 33,
   "metadata": {},
   "outputs": [
    {
     "data": {
      "text/html": [
       "<div>\n",
       "<style scoped>\n",
       "    .dataframe tbody tr th:only-of-type {\n",
       "        vertical-align: middle;\n",
       "    }\n",
       "\n",
       "    .dataframe tbody tr th {\n",
       "        vertical-align: top;\n",
       "    }\n",
       "\n",
       "    .dataframe thead th {\n",
       "        text-align: right;\n",
       "    }\n",
       "</style>\n",
       "<table border=\"1\" class=\"dataframe\">\n",
       "  <thead>\n",
       "    <tr style=\"text-align: right;\">\n",
       "      <th></th>\n",
       "      <th>name</th>\n",
       "      <th>desc</th>\n",
       "      <th>althix</th>\n",
       "    </tr>\n",
       "  </thead>\n",
       "  <tbody>\n",
       "    <tr>\n",
       "      <th>0</th>\n",
       "      <td>آبار الأعراب</td>\n",
       "      <td># جمع بئر. يقال في جمعها آبار وبئار وأبار: موض...</td>\n",
       "      <td>NaN</td>\n",
       "    </tr>\n",
       "    <tr>\n",
       "      <th>1</th>\n",
       "      <td>آبج</td>\n",
       "      <td># بفتح الهمزة وبعد الألف باء موحدة مفتوحة وجيم...</td>\n",
       "      <td>NaN</td>\n",
       "    </tr>\n",
       "    <tr>\n",
       "      <th>2</th>\n",
       "      <td>آبر</td>\n",
       "      <td># بفتح الهمزة وسكون الألف وضم الباء الموحدة ور...</td>\n",
       "      <td>NaN</td>\n",
       "    </tr>\n",
       "    <tr>\n",
       "      <th>3</th>\n",
       "      <td>آبسكون</td>\n",
       "      <td># بفتح الهمزة وسكون الألف وفتح الباء الموحدة و...</td>\n",
       "      <td>7.0</td>\n",
       "    </tr>\n",
       "    <tr>\n",
       "      <th>4</th>\n",
       "      <td>آبل</td>\n",
       "      <td># بفتح الهمزة وبعد الألف باء مكسورة ولام:\\n&lt;br...</td>\n",
       "      <td>NaN</td>\n",
       "    </tr>\n",
       "    <tr>\n",
       "      <th>...</th>\n",
       "      <td>...</td>\n",
       "      <td>...</td>\n",
       "      <td>...</td>\n",
       "    </tr>\n",
       "    <tr>\n",
       "      <th>12449</th>\n",
       "      <td>يونان</td>\n",
       "      <td># بالضم ثم السكون، ونونين بينهما ألف:\\n&lt;br /&gt;#...</td>\n",
       "      <td>NaN</td>\n",
       "    </tr>\n",
       "    <tr>\n",
       "      <th>12450</th>\n",
       "      <td>يؤيؤ</td>\n",
       "      <td># بالضم ثم السكون ثم مثله، يوم يؤيؤ: وهو يوم ا...</td>\n",
       "      <td>NaN</td>\n",
       "    </tr>\n",
       "    <tr>\n",
       "      <th>12451</th>\n",
       "      <td>يهرع</td>\n",
       "      <td># بالفتح، قوله تعالى: وجاءه قومه يهرعون إليه، ...</td>\n",
       "      <td>NaN</td>\n",
       "    </tr>\n",
       "    <tr>\n",
       "      <th>12452</th>\n",
       "      <td>اليهودية</td>\n",
       "      <td># نسبة إلى اليهود في موضعين: أحدهما محلة بجرجا...</td>\n",
       "      <td>2475.0</td>\n",
       "    </tr>\n",
       "    <tr>\n",
       "      <th>12453</th>\n",
       "      <td>ييعث</td>\n",
       "      <td># بفتح أوله، وسكون ثانيه، وضم العين المهملة، و...</td>\n",
       "      <td>NaN</td>\n",
       "    </tr>\n",
       "  </tbody>\n",
       "</table>\n",
       "<p>12454 rows × 3 columns</p>\n",
       "</div>"
      ],
      "text/plain": [
       "               name                                               desc  althix\n",
       "0      آبار الأعراب  # جمع بئر. يقال في جمعها آبار وبئار وأبار: موض...     NaN\n",
       "1               آبج  # بفتح الهمزة وبعد الألف باء موحدة مفتوحة وجيم...     NaN\n",
       "2               آبر  # بفتح الهمزة وسكون الألف وضم الباء الموحدة ور...     NaN\n",
       "3            آبسكون  # بفتح الهمزة وسكون الألف وفتح الباء الموحدة و...     7.0\n",
       "4               آبل  # بفتح الهمزة وبعد الألف باء مكسورة ولام:\\n<br...     NaN\n",
       "...             ...                                                ...     ...\n",
       "12449         يونان  # بالضم ثم السكون، ونونين بينهما ألف:\\n<br />#...     NaN\n",
       "12450          يؤيؤ  # بالضم ثم السكون ثم مثله، يوم يؤيؤ: وهو يوم ا...     NaN\n",
       "12451          يهرع  # بالفتح، قوله تعالى: وجاءه قومه يهرعون إليه، ...     NaN\n",
       "12452      اليهودية  # نسبة إلى اليهود في موضعين: أحدهما محلة بجرجا...  2475.0\n",
       "12453          ييعث  # بفتح أوله، وسكون ثانيه، وضم العين المهملة، و...     NaN\n",
       "\n",
       "[12454 rows x 3 columns]"
      ]
     },
     "execution_count": 33,
     "metadata": {},
     "output_type": "execute_result"
    }
   ],
   "source": [
    "xf"
   ]
  },
  {
   "cell_type": "code",
   "execution_count": 120,
   "metadata": {},
   "outputs": [],
   "source": [
    "ct = Counter(ftoponyms)"
   ]
  },
  {
   "cell_type": "code",
   "execution_count": 89,
   "metadata": {},
   "outputs": [
    {
     "data": {
      "text/plain": [
       "12454"
      ]
     },
     "execution_count": 89,
     "metadata": {},
     "output_type": "execute_result"
    }
   ],
   "source": [
    "len(xf)"
   ]
  },
  {
   "cell_type": "code",
   "execution_count": 123,
   "metadata": {},
   "outputs": [],
   "source": [
    "dups = 0\n",
    "for n in xf[xf.althix.notna()].name:\n",
    "    if ct[n] > 1:\n",
    "        dups += 1\n",
    "        "
   ]
  },
  {
   "cell_type": "code",
   "execution_count": 35,
   "metadata": {},
   "outputs": [],
   "source": [
    "joined = xf.join(df, on='althix', how='inner')"
   ]
  },
  {
   "cell_type": "code",
   "execution_count": 36,
   "metadata": {},
   "outputs": [],
   "source": [
    "gf = gpd.GeoDataFrame(joined,\n",
    "                 geometry=gpd.points_from_xy(joined.coord_lon.astype(float), joined.coord_lat.astype(float)))"
   ]
  },
  {
   "cell_type": "code",
   "execution_count": 37,
   "metadata": {},
   "outputs": [
    {
     "data": {
      "image/png": "[encoded data removed]",
      "text/plain": [
       "<Figure size 432x288 with 1 Axes>"
      ]
     },
     "metadata": {
      "needs_background": "light"
     },
     "output_type": "display_data"
    }
   ],
   "source": [
    "world = gpd.read_file(gpd.datasets.get_path('naturalearth_lowres'))\n",
    "base = world.plot(color='white', edgecolor='black')\n",
    "gf.plot(ax=base, marker='o', color='red', markersize=5);\n",
    "# plt.figure(figsize=(10,10))\n",
    "plt.show()"
   ]
  },
  {
   "cell_type": "code",
   "execution_count": 38,
   "metadata": {},
   "outputs": [
    {
     "name": "stderr",
     "output_type": "stream",
     "text": [
      "/usr/local/lib/python3.6/dist-packages/IPython/core/interactiveshell.py:3020: DtypeWarning: Columns (8,12) have mixed types.Specify dtype option on import or set low_memory=False.\n",
      "  interactivity=interactivity, compiler=compiler, result=result)\n"
     ]
    }
   ],
   "source": [
    "wdf = pd.read_csv('../HaMapah-Local/wikidata-gazetteer.tsv', delimiter='\\t')"
   ]
  },
  {
   "cell_type": "code",
   "execution_count": 40,
   "metadata": {},
   "outputs": [],
   "source": [
    "wdf.fillna('', inplace=True)"
   ]
  },
  {
   "cell_type": "code",
   "execution_count": 175,
   "metadata": {},
   "outputs": [],
   "source": [
    "# cwf = wdf.fillna('')"
   ]
  },
  {
   "cell_type": "code",
   "execution_count": 41,
   "metadata": {},
   "outputs": [
    {
     "data": {
      "text/plain": [
       "4198913"
      ]
     },
     "execution_count": 41,
     "metadata": {},
     "output_type": "execute_result"
    }
   ],
   "source": [
    "len(wdf)"
   ]
  },
  {
   "cell_type": "code",
   "execution_count": 69,
   "metadata": {},
   "outputs": [],
   "source": [
    "# WDF is really long, let's limit the coordinates\n",
    "LONG_MAX = 90\n",
    "LONG_MIN = -15\n",
    "\n",
    "LAT_MAX = 45\n",
    "LAT_MIN = 6"
   ]
  },
  {
   "cell_type": "code",
   "execution_count": null,
   "metadata": {},
   "outputs": [],
   "source": []
  },
  {
   "cell_type": "code",
   "execution_count": 72,
   "metadata": {},
   "outputs": [],
   "source": [
    "cwf = wdf[(LAT_MIN < wdf.latitude) & (wdf.latitude < LAT_MAX) & (wdf.longitude > LONG_MIN) & (wdf.longitude < LONG_MAX)]"
   ]
  },
  {
   "cell_type": "code",
   "execution_count": 74,
   "metadata": {},
   "outputs": [
    {
     "data": {
      "text/plain": [
       "(647744, 0.1542646870749644)"
      ]
     },
     "execution_count": 74,
     "metadata": {},
     "output_type": "execute_result"
    }
   ],
   "source": [
    "len(cwf), len(cwf) / len(wdf)"
   ]
  },
  {
   "cell_type": "code",
   "execution_count": 75,
   "metadata": {},
   "outputs": [
    {
     "data": {
      "text/html": [
       "<div>\n",
       "<style scoped>\n",
       "    .dataframe tbody tr th:only-of-type {\n",
       "        vertical-align: middle;\n",
       "    }\n",
       "\n",
       "    .dataframe tbody tr th {\n",
       "        vertical-align: top;\n",
       "    }\n",
       "\n",
       "    .dataframe thead th {\n",
       "        text-align: right;\n",
       "    }\n",
       "</style>\n",
       "<table border=\"1\" class=\"dataframe\">\n",
       "  <thead>\n",
       "    <tr style=\"text-align: right;\">\n",
       "      <th></th>\n",
       "      <th>wikidata_id</th>\n",
       "      <th>primary_name</th>\n",
       "      <th>enwiki_title</th>\n",
       "      <th>alternative_names</th>\n",
       "      <th>country</th>\n",
       "      <th>country_code</th>\n",
       "      <th>wikidata_classes</th>\n",
       "      <th>elevation</th>\n",
       "      <th>geonames_id</th>\n",
       "      <th>latitude</th>\n",
       "      <th>longitude</th>\n",
       "      <th>population</th>\n",
       "      <th>osm_id</th>\n",
       "    </tr>\n",
       "  </thead>\n",
       "  <tbody>\n",
       "    <tr>\n",
       "      <th>2</th>\n",
       "      <td>Q29</td>\n",
       "      <td>Spain</td>\n",
       "      <td>Spain</td>\n",
       "      <td>Španělsko,Spanje,Espay,西班牙,Spanien,Spánn,Испан...</td>\n",
       "      <td>Spain</td>\n",
       "      <td>ES</td>\n",
       "      <td>member state of the European Union; country; m...</td>\n",
       "      <td></td>\n",
       "      <td>2.51077e+06</td>\n",
       "      <td>40.000000</td>\n",
       "      <td>-3.000000</td>\n",
       "      <td>3.0455e+07</td>\n",
       "      <td>1311341</td>\n",
       "    </tr>\n",
       "    <tr>\n",
       "      <th>18</th>\n",
       "      <td>Q221</td>\n",
       "      <td>Republic of Macedonia</td>\n",
       "      <td>Republic of Macedonia</td>\n",
       "      <td>Makedonie,Macedonië,Repiblik d Masedoni,Mazedo...</td>\n",
       "      <td>Republic of Macedonia</td>\n",
       "      <td>MK</td>\n",
       "      <td>member state of the United Nations; country; m...</td>\n",
       "      <td></td>\n",
       "      <td>718075</td>\n",
       "      <td>41.650000</td>\n",
       "      <td>21.716667</td>\n",
       "      <td>1.47114e+06</td>\n",
       "      <td>53293</td>\n",
       "    </tr>\n",
       "    <tr>\n",
       "      <th>19</th>\n",
       "      <td>Q227</td>\n",
       "      <td>Azerbaijan</td>\n",
       "      <td>Azerbaijan</td>\n",
       "      <td>Ázerbájdžán,Aâzerbeidzjan,Azerbaydjan,Aserbaid...</td>\n",
       "      <td>Azerbaijan</td>\n",
       "      <td>AZ</td>\n",
       "      <td>member state of the United Nations; country; l...</td>\n",
       "      <td></td>\n",
       "      <td>587116</td>\n",
       "      <td>40.300000</td>\n",
       "      <td>47.700000</td>\n",
       "      <td>3.89789e+06</td>\n",
       "      <td>364110</td>\n",
       "    </tr>\n",
       "    <tr>\n",
       "      <th>20</th>\n",
       "      <td>Q228</td>\n",
       "      <td>Andorra</td>\n",
       "      <td>Andorra</td>\n",
       "      <td>Andora,安道尔,Андорра,এন্ডোরা,アンドラ,ประเทศอันดอร์ร...</td>\n",
       "      <td>Andorra</td>\n",
       "      <td>AD</td>\n",
       "      <td>member state of the United Nations; country; l...</td>\n",
       "      <td></td>\n",
       "      <td>3.04156e+06</td>\n",
       "      <td>42.558333</td>\n",
       "      <td>1.555278</td>\n",
       "      <td>13414</td>\n",
       "      <td>9407</td>\n",
       "    </tr>\n",
       "    <tr>\n",
       "      <th>26</th>\n",
       "      <td>Q398</td>\n",
       "      <td>Bahrain</td>\n",
       "      <td>Bahrain</td>\n",
       "      <td>Bahrajn,Bahrein,Barayn,Barein,Бахрейн,Бахрэйн,...</td>\n",
       "      <td>Bahrain</td>\n",
       "      <td>BH</td>\n",
       "      <td>member state of the United Nations; country; i...</td>\n",
       "      <td></td>\n",
       "      <td>290291</td>\n",
       "      <td>26.067500</td>\n",
       "      <td>50.551111</td>\n",
       "      <td>162501</td>\n",
       "      <td>378734</td>\n",
       "    </tr>\n",
       "  </tbody>\n",
       "</table>\n",
       "</div>"
      ],
      "text/plain": [
       "   wikidata_id           primary_name           enwiki_title  \\\n",
       "2          Q29                  Spain                  Spain   \n",
       "18        Q221  Republic of Macedonia  Republic of Macedonia   \n",
       "19        Q227             Azerbaijan             Azerbaijan   \n",
       "20        Q228                Andorra                Andorra   \n",
       "26        Q398                Bahrain                Bahrain   \n",
       "\n",
       "                                    alternative_names                country  \\\n",
       "2   Španělsko,Spanje,Espay,西班牙,Spanien,Spánn,Испан...                  Spain   \n",
       "18  Makedonie,Macedonië,Repiblik d Masedoni,Mazedo...  Republic of Macedonia   \n",
       "19  Ázerbájdžán,Aâzerbeidzjan,Azerbaydjan,Aserbaid...             Azerbaijan   \n",
       "20  Andora,安道尔,Андорра,এন্ডোরা,アンドラ,ประเทศอันดอร์ร...                Andorra   \n",
       "26  Bahrajn,Bahrein,Barayn,Barein,Бахрейн,Бахрэйн,...                Bahrain   \n",
       "\n",
       "   country_code                                   wikidata_classes elevation  \\\n",
       "2            ES  member state of the European Union; country; m...             \n",
       "18           MK  member state of the United Nations; country; m...             \n",
       "19           AZ  member state of the United Nations; country; l...             \n",
       "20           AD  member state of the United Nations; country; l...             \n",
       "26           BH  member state of the United Nations; country; i...             \n",
       "\n",
       "    geonames_id   latitude  longitude   population   osm_id  \n",
       "2   2.51077e+06  40.000000  -3.000000   3.0455e+07  1311341  \n",
       "18       718075  41.650000  21.716667  1.47114e+06    53293  \n",
       "19       587116  40.300000  47.700000  3.89789e+06   364110  \n",
       "20  3.04156e+06  42.558333   1.555278        13414     9407  \n",
       "26       290291  26.067500  50.551111       162501   378734  "
      ]
     },
     "execution_count": 75,
     "metadata": {},
     "output_type": "execute_result"
    }
   ],
   "source": [
    "cwf.head()"
   ]
  },
  {
   "cell_type": "code",
   "execution_count": 76,
   "metadata": {},
   "outputs": [
    {
     "name": "stderr",
     "output_type": "stream",
     "text": [
      "100%|██████████| 647744/647744 [00:01<00:00, 505189.20it/s]\n"
     ]
    }
   ],
   "source": [
    "names = {}\n",
    "for i, n in tqdm(zip(cwf.wikidata_id, cwf.alternative_names), total=len(cwf)):\n",
    "    for nm in n.split(','):\n",
    "        names[nm] = i"
   ]
  },
  {
   "cell_type": "code",
   "execution_count": 77,
   "metadata": {},
   "outputs": [],
   "source": [
    "xf['wikidataID'] = xf.name.map(names)"
   ]
  },
  {
   "cell_type": "code",
   "execution_count": 78,
   "metadata": {},
   "outputs": [
    {
     "data": {
      "text/plain": [
       "2582"
      ]
     },
     "execution_count": 78,
     "metadata": {},
     "output_type": "execute_result"
    }
   ],
   "source": [
    "len(xf[['wikidataID', 'althix']].dropna(how='all'))"
   ]
  },
  {
   "cell_type": "code",
   "execution_count": 86,
   "metadata": {},
   "outputs": [],
   "source": [
    "xw = xf.join(wdf.set_index('wikidata_id'), on='wikidataID', how='left')"
   ]
  },
  {
   "cell_type": "code",
   "execution_count": 87,
   "metadata": {},
   "outputs": [],
   "source": [
    "dj = xw.join(df, on='althix', how='left')"
   ]
  },
  {
   "cell_type": "code",
   "execution_count": 90,
   "metadata": {},
   "outputs": [
    {
     "data": {
      "text/plain": [
       "12454"
      ]
     },
     "execution_count": 90,
     "metadata": {},
     "output_type": "execute_result"
    }
   ],
   "source": [
    "len(dj)"
   ]
  },
  {
   "cell_type": "code",
   "execution_count": 91,
   "metadata": {},
   "outputs": [],
   "source": [
    "dj['mlat'] = dj.coord_lat.combine_first(dj.latitude)\n",
    "dj['mlon'] = dj.coord_lon.combine_first(dj.longitude)"
   ]
  },
  {
   "cell_type": "code",
   "execution_count": 92,
   "metadata": {},
   "outputs": [],
   "source": [
    "# mgf = dj.dropna(subset=['mlat'])"
   ]
  },
  {
   "cell_type": "code",
   "execution_count": 94,
   "metadata": {},
   "outputs": [],
   "source": [
    "# mgf.to_excel('combined_wd_alth_new.xlsx')"
   ]
  },
  {
   "cell_type": "code",
   "execution_count": 97,
   "metadata": {},
   "outputs": [],
   "source": [
    "dj.to_excel('FullYakut-Matched.xlsx')"
   ]
  },
  {
   "cell_type": "code",
   "execution_count": 98,
   "metadata": {},
   "outputs": [],
   "source": [
    "# "
   ]
  },
  {
   "cell_type": "code",
   "execution_count": null,
   "metadata": {},
   "outputs": [],
   "source": []
  }
 ],
 "metadata": {
  "kernelspec": {
   "display_name": "Python 3",
   "language": "python",
   "name": "python3"
  },
  "language_info": {
   "codemirror_mode": {
    "name": "ipython",
    "version": 3
   },
   "file_extension": ".py",
   "mimetype": "text/x-python",
   "name": "python",
   "nbconvert_exporter": "python",
   "pygments_lexer": "ipython3",
   "version": "3.6.9"
  }
 },
 "nbformat": 4,
 "nbformat_minor": 4
}
